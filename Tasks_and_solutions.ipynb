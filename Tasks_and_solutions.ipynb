{
 "cells": [
  {
   "cell_type": "code",
   "execution_count": 5,
   "metadata": {},
   "outputs": [],
   "source": [
    "import sqlite3\n",
    "import pandas as pd\n",
    "import numpy as np\n",
    "from sklearn.linear_model import LinearRegression\n",
    "import math"
   ]
  },
  {
   "cell_type": "code",
   "execution_count": 6,
   "metadata": {},
   "outputs": [],
   "source": [
    "conn = sqlite3.connect('DB.db')\n",
    "c = conn.cursor()"
   ]
  },
  {
   "cell_type": "markdown",
   "metadata": {},
   "source": [
    "# Task 1"
   ]
  },
  {
   "cell_type": "markdown",
   "metadata": {},
   "source": [
    "## Part 1"
   ]
  },
  {
   "cell_type": "code",
   "execution_count": 28,
   "metadata": {},
   "outputs": [],
   "source": [
    "c.execute(\"\"\"SELECT AVG(price) FROM\n",
    "                (SELECT price FROM prices GROUP BY product HAVING MAX(date_start))\"\"\")\n",
    "avg = '%.3f' % c.fetchall()[0][0]\n",
    "with open ('res1.txt', 'w') as w:\n",
    "    w.write(avg) "
   ]
  },
  {
   "cell_type": "markdown",
   "metadata": {},
   "source": [
    "## Part 2"
   ]
  },
  {
   "cell_type": "code",
   "execution_count": 230,
   "metadata": {},
   "outputs": [],
   "source": [
    "def price_change(product: str):\n",
    "    c.execute(\"SELECT DISTINCT product from prices ORDER BY product\")\n",
    "    names = c.fetchall()\n",
    "    product_names=[]\n",
    "    [product_names.append(names[i][0]) for i in range(len(names))]\n",
    "    if product in product_names:\n",
    "        c.execute(\"SELECT date_start, price FROM prices WHERE product=:product ORDER BY date_start\", {'product': product})\n",
    "        alist = c.fetchall()\n",
    "        return ([alist[i][0] for i in range(len(alist))], [alist[i][1] for i in range(len(alist))])\n",
    "    else:\n",
    "        return 'There is no such product'"
   ]
  },
  {
   "cell_type": "code",
   "execution_count": 233,
   "metadata": {},
   "outputs": [
    {
     "name": "stdout",
     "output_type": "stream",
     "text": [
      "(['1970-01-01', '2010-01-21', '2010-08-17', '2010-11-02', '2012-08-27', '2012-12-06', '2013-01-11', '2013-05-02', '2013-05-08', '2013-11-01', '2014-08-30', '2015-12-29', '2016-05-04', '2016-08-14', '2016-09-28', '2017-04-01'], [297.79, 164.68, 558.58, 127.08, 352.13, 0.35, 100.61, 120.5, 260.19, 1747.84, 59.84, 118.27, 550.62, 339.35, 210.19, 111.23])\n"
     ]
    }
   ],
   "source": [
    "print(price_change('A'))"
   ]
  },
  {
   "cell_type": "markdown",
   "metadata": {},
   "source": [
    "# Task 2"
   ]
  },
  {
   "cell_type": "markdown",
   "metadata": {},
   "source": [
    "## Part 1. Create a table 'revenue'"
   ]
  },
  {
   "cell_type": "code",
   "execution_count": 202,
   "metadata": {},
   "outputs": [],
   "source": [
    "prices_dict, sales_dict = {}, {}\n",
    "\n",
    "for product in product_names:\n",
    "    c.execute(\"SELECT date_start, price FROM prices WHERE product=:product\", {'product': product})\n",
    "    prices = c.fetchall()\n",
    "    product_prices_dict = {}\n",
    "    for price in prices:\n",
    "        product_prices_dict[f'{price[0]}'] = f'{price[1]}'\n",
    "    prices_dict.update({product:product_prices_dict})\n",
    "\n",
    "for product in product_names:\n",
    "    c.execute(\"SELECT date, amount FROM sales WHERE product=:product\", {'product': product})\n",
    "    sales = c.fetchall()\n",
    "    product_sales_dict = {}\n",
    "    for sale in sales:\n",
    "        product_sales_dict[f'{sale[0]}'] = f'{sale[1]}'\n",
    "    sales_dict.update({product:product_sales_dict})"
   ]
  },
  {
   "cell_type": "code",
   "execution_count": 198,
   "metadata": {},
   "outputs": [],
   "source": [
    "with conn:\n",
    "    c.execute(\"\"\"CREATE TABLE revenue (\n",
    "                product TEXT,\n",
    "                date TEXT,\n",
    "                amount INTEGER,\n",
    "                revenue REAL\n",
    "                )\"\"\")"
   ]
  },
  {
   "cell_type": "code",
   "execution_count": 199,
   "metadata": {},
   "outputs": [
    {
     "name": "stdout",
     "output_type": "stream",
     "text": [
      "Wall time: 1.12 s\n"
     ]
    },
    {
     "data": {
      "text/plain": [
       "<sqlite3.Cursor at 0x1c605fa1340>"
      ]
     },
     "execution_count": 199,
     "metadata": {},
     "output_type": "execute_result"
    }
   ],
   "source": [
    "%%time\n",
    "dataset=[]\n",
    "for product, data in sales_dict.items():\n",
    "    for date, amount in data.items():\n",
    "        revenue = float((prices_dict[product][max([dt for dt in prices_dict[product].keys() if dt <= date])]))*int(amount)\n",
    "        dataset.append((product, date, amount, revenue))\n",
    "    \n",
    "query = \"INSERT INTO revenue VALUES (?, ?, ?, ?)\"\n",
    "with conn:\n",
    "     c.executemany(query, dataset)"
   ]
  },
  {
   "cell_type": "markdown",
   "metadata": {},
   "source": [
    "## Part 2. Calculate standard deviation of product 'B'"
   ]
  },
  {
   "cell_type": "code",
   "execution_count": 216,
   "metadata": {},
   "outputs": [],
   "source": [
    "c.execute(\"SELECT revenue FROM revenue WHERE product='B'\")\n",
    "std = np.std([row[0] for row in c.fetchall()])\n",
    "with open ('res2.txt', 'w') as w:\n",
    "    w.write('%.2f' % std)"
   ]
  },
  {
   "cell_type": "markdown",
   "metadata": {},
   "source": [
    "# Task 3"
   ]
  },
  {
   "cell_type": "code",
   "execution_count": 224,
   "metadata": {},
   "outputs": [],
   "source": [
    "def lin_reg(product, date_start, date_end):\n",
    "    \n",
    "    c.execute(\"\"\"SELECT date, amount FROM sales\n",
    "                 WHERE product=:product\n",
    "                 AND date BETWEEN :date_start AND :date_end\n",
    "                 ORDER BY date\"\"\", {'product': product, 'date_start': date_start, 'date_end': date_end})\n",
    "    data = c.fetchall()\n",
    "    X, y = [i for i in range(len(data))], [data[i][1] for i in range(len(data))]\n",
    "\n",
    "    X_df = pd.DataFrame(data=X, columns=['date'])\n",
    "    y_df = pd.DataFrame(data=y, columns=['amount'])\n",
    "    X_train = np.asanyarray(X_df[['date']])\n",
    "    y_train = np.asanyarray(y_df[['amount']])\n",
    "    \n",
    "    LR = LinearRegression().fit(X_train, y_train)\n",
    "    \n",
    "    return float('%.4f' % LR.coef_[0][0]), float('%.4f' % LR.intercept_[0])"
   ]
  },
  {
   "cell_type": "code",
   "execution_count": 228,
   "metadata": {
    "collapsed": true
   },
   "outputs": [
    {
     "data": {
      "text/plain": [
       "(-0.1756, 29.3702)"
      ]
     },
     "execution_count": 228,
     "metadata": {},
     "output_type": "execute_result"
    }
   ],
   "source": [
    "coef = lin_reg(product='Q', date_start='2019-01-01', date_end='2019-03-31')\n",
    "with open ('res3.txt', 'w') as w:\n",
    "    w.write(str(coef[0]) + ' ' + str(coef[1]))"
   ]
  },
  {
   "cell_type": "code",
   "execution_count": 236,
   "metadata": {},
   "outputs": [],
   "source": [
    "conn.close()"
   ]
  },
  {
   "cell_type": "code",
   "execution_count": null,
   "metadata": {},
   "outputs": [],
   "source": []
  }
 ],
 "metadata": {
  "kernelspec": {
   "display_name": "Python 3",
   "language": "python",
   "name": "python3"
  },
  "language_info": {
   "codemirror_mode": {
    "name": "ipython",
    "version": 3
   },
   "file_extension": ".py",
   "mimetype": "text/x-python",
   "name": "python",
   "nbconvert_exporter": "python",
   "pygments_lexer": "ipython3",
   "version": "3.7.4"
  }
 },
 "nbformat": 4,
 "nbformat_minor": 2
}
