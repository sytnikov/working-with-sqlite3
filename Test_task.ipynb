{
 "cells": [
  {
   "cell_type": "code",
   "execution_count": 466,
   "metadata": {},
   "outputs": [],
   "source": [
    "import sqlite3\n",
    "import pandas as pd\n",
    "import numpy as np\n",
    "from sklearn.linear_model import LinearRegression\n",
    "import math\n",
    "from numpy import std"
   ]
  },
  {
   "cell_type": "code",
   "execution_count": 454,
   "metadata": {},
   "outputs": [],
   "source": [
    "conn = sqlite3.connect('DB.db')\n",
    "c = conn.cursor()"
   ]
  },
  {
   "cell_type": "markdown",
   "metadata": {},
   "source": [
    "# Task 1"
   ]
  },
  {
   "cell_type": "markdown",
   "metadata": {},
   "source": [
    "## Part 1"
   ]
  },
  {
   "cell_type": "code",
   "execution_count": 455,
   "metadata": {},
   "outputs": [],
   "source": [
    "def get_all(table):\n",
    "    c.execute(f\"SELECT * FROM {table}\")\n",
    "    return c.fetchall()"
   ]
  },
  {
   "cell_type": "code",
   "execution_count": 456,
   "metadata": {
    "scrolled": false
   },
   "outputs": [
    {
     "data": {
      "text/plain": [
       "[('2018-11-09', 'W', 92.93),\n",
       " ('2013-09-30', 'J', 14.63),\n",
       " ('2015-12-27', 'E', 304.53),\n",
       " ('2019-03-22', 'D', 210.91),\n",
       " ('2015-05-13', 'O', 23.89),\n",
       " ('2012-02-27', 'W', 135.74),\n",
       " ('2016-07-10', 'D', 88.07),\n",
       " ('2019-01-17', 'M', 758.44),\n",
       " ('2016-07-16', 'K', 1136.31),\n",
       " ('2017-03-23', 'E', 39.86)]"
      ]
     },
     "execution_count": 456,
     "metadata": {},
     "output_type": "execute_result"
    }
   ],
   "source": [
    "get_all('prices')[0:10]"
   ]
  },
  {
   "cell_type": "code",
   "execution_count": 457,
   "metadata": {},
   "outputs": [
    {
     "data": {
      "text/plain": [
       "[('2017-04-01', 'A', 111.23),\n",
       " ('2019-06-10', 'B', 310.31),\n",
       " ('2019-06-25', 'C', 121.17),\n",
       " ('2019-04-19', 'D', 64.53),\n",
       " ('2019-01-15', 'E', 293.38)]"
      ]
     },
     "execution_count": 457,
     "metadata": {},
     "output_type": "execute_result"
    }
   ],
   "source": [
    "c.execute(\"SELECT DISTINCT product from prices ORDER BY product\")\n",
    "product_names = c.fetchall()\n",
    "latest = []\n",
    "for i in range(len(product_names)):\n",
    "    c.execute(f\"SELECT * FROM prices WHERE product='{product_names[i][0]}' ORDER BY date_start\")\n",
    "    rows = c.fetchall()\n",
    "    latest.append(rows[-1])\n",
    "latest[0:5]"
   ]
  },
  {
   "cell_type": "code",
   "execution_count": 473,
   "metadata": {},
   "outputs": [
    {
     "name": "stdout",
     "output_type": "stream",
     "text": [
      "The average of the newest prices is 366.905\n"
     ]
    }
   ],
   "source": [
    "sum=0\n",
    "for i in range(len(latest)):\n",
    "    sum += latest[i][2]\n",
    "avg = sum/len(latest)\n",
    "print('The average of the newest prices is %.3f' % avg)"
   ]
  },
  {
   "cell_type": "code",
   "execution_count": 138,
   "metadata": {},
   "outputs": [],
   "source": [
    "with open ('res1.txt', 'w') as w:\n",
    "    w.write('%.3f' % avg)"
   ]
  },
  {
   "cell_type": "markdown",
   "metadata": {},
   "source": [
    "## Part 2"
   ]
  },
  {
   "cell_type": "code",
   "execution_count": 459,
   "metadata": {},
   "outputs": [],
   "source": [
    "def my_func(product: str):\n",
    "    c.execute(f\"SELECT * FROM prices WHERE product='{product}' ORDER BY date_start\")\n",
    "    alist = c.fetchall()\n",
    "    dates, prices= [], []\n",
    "    for i in range(len(alist)):\n",
    "        dates.append(alist[i][0])\n",
    "        prices.append(alist[i][2])\n",
    "    return dates, prices"
   ]
  },
  {
   "cell_type": "code",
   "execution_count": 460,
   "metadata": {},
   "outputs": [
    {
     "name": "stdout",
     "output_type": "stream",
     "text": [
      "(['1970-01-01', '2010-04-12', '2012-06-28', '2013-01-10', '2013-06-03', '2015-04-17', '2015-07-11', '2015-07-30', '2015-12-07', '2016-02-07', '2016-04-21', '2016-07-12', '2017-11-09', '2018-12-08', '2019-07-02', '2019-08-23'], [119.21, 129.89, 76.37, 103.83, 465.95, 352.25, 428.15, 172.66, 33.51, 853.49, 7.43, 86.85, 553.63, 348.29, 167.78, 13.62])\n"
     ]
    }
   ],
   "source": [
    "print(my_func('Z'))"
   ]
  },
  {
   "cell_type": "markdown",
   "metadata": {},
   "source": [
    "# Task 2"
   ]
  },
  {
   "cell_type": "code",
   "execution_count": 146,
   "metadata": {
    "scrolled": false
   },
   "outputs": [
    {
     "name": "stdout",
     "output_type": "stream",
     "text": [
      "Total number of records in sales table: 91624\n"
     ]
    },
    {
     "data": {
      "text/plain": [
       "[('A', '2018-01-14', 9),\n",
       " ('H', '2013-11-08', 20),\n",
       " ('H', '2013-11-06', 1),\n",
       " ('P', '2014-11-06', 20),\n",
       " ('H', '2016-05-30', 26),\n",
       " ('R', '2015-10-29', 2),\n",
       " ('F', '2017-08-25', 6),\n",
       " ('J', '2015-04-14', 12),\n",
       " ('A', '2015-05-14', 5),\n",
       " ('L', '2011-08-26', 0)]"
      ]
     },
     "execution_count": 146,
     "metadata": {},
     "output_type": "execute_result"
    }
   ],
   "source": [
    "print('Total number of records in sales table:', len(get_all('sales')))\n",
    "get_all('sales')[0:10]"
   ]
  },
  {
   "cell_type": "code",
   "execution_count": 405,
   "metadata": {},
   "outputs": [],
   "source": [
    "c.execute(\"\"\"CREATE TABLE revenue (\n",
    "            product TEXT,\n",
    "            date TEXT,\n",
    "            amount INTEGER,\n",
    "            revenue REAL\n",
    "            )\"\"\")\n",
    "conn.commit()"
   ]
  },
  {
   "cell_type": "code",
   "execution_count": null,
   "metadata": {},
   "outputs": [],
   "source": [
    "def revenue_for_product(product):\n",
    "    \n",
    "    c.execute(f\"SELECT * FROM prices WHERE product='{product}' ORDER BY date_start\")\n",
    "    prices = c.fetchall()\n",
    "    c.execute(f\"SELECT * FROM sales WHERE product='{product}' ORDER BY date\")\n",
    "    sales = c.fetchall()\n",
    "    i=0\n",
    "    revenue =[]\n",
    "\n",
    "    for j in range(len(sales)):\n",
    "        if sales[j][1] > prices[i][0]:\n",
    "            revenue.append(sales[j][2]*prices[i][2])\n",
    "            if i != len(prices)-1:\n",
    "                i+=1\n",
    "            else:\n",
    "                continue\n",
    "        elif prices[i][0] == sales[j][1]:\n",
    "            revenue.append(sales[j][2]*prices[i][2])\n",
    "        else:\n",
    "            revenue.append(sales[j][2]*prices[i-1][2])\n",
    "\n",
    "    for i in range(len(revenue)):\n",
    "        c.execute(f\"\"\"INSERT INTO revenue\n",
    "                    VALUES ('{sales[i][0]}', '{sales[i][1]}', {sales[i][2]}, {revenue[i]})\"\"\")\n",
    "        conn.commit()"
   ]
  },
  {
   "cell_type": "code",
   "execution_count": null,
   "metadata": {},
   "outputs": [],
   "source": [
    "# population of revenue table\n",
    "for i in range(len(product_names)):\n",
    "    revenue_for_product(product_names[i][0])"
   ]
  },
  {
   "cell_type": "code",
   "execution_count": 461,
   "metadata": {},
   "outputs": [],
   "source": [
    "c.execute(\"SELECT * FROM revenue WHERE product='B'\")\n",
    "B_data = c.fetchall()"
   ]
  },
  {
   "cell_type": "code",
   "execution_count": 462,
   "metadata": {},
   "outputs": [],
   "source": [
    "# average\n",
    "sum_1  = 0\n",
    "for i in range(len(B_data)):\n",
    "    sum_1 += B_data[i][3]\n",
    "avg = sum_1/len(B_data)\n",
    "\n",
    "# variance\n",
    "sum_2 = 0\n",
    "for i in range(len(B_data)):\n",
    "    sum_2 += (B_data[i][3] - avg)**2\n",
    "var = sum_2/len(B_data)\n",
    "\n",
    "# standard deviation\n",
    "sd = math.sqrt(var)\n",
    "\n",
    "with open ('res2.txt', 'w') as w:\n",
    "    w.write('%.2f' % sd)"
   ]
  },
  {
   "cell_type": "code",
   "execution_count": 463,
   "metadata": {},
   "outputs": [
    {
     "name": "stdout",
     "output_type": "stream",
     "text": [
      "Average value: 19030.89\n",
      "Variance value: 1119651220.33\n",
      "Standard deviation value: 33461.19\n"
     ]
    }
   ],
   "source": [
    "print(\"Average value: %.2f\" % avg)\n",
    "print(\"Variance value: %.2f\" % var)\n",
    "print(\"Standard deviation value: %.2f\" % sd)"
   ]
  },
  {
   "cell_type": "markdown",
   "metadata": {},
   "source": [
    "# Task 3"
   ]
  },
  {
   "cell_type": "code",
   "execution_count": 295,
   "metadata": {},
   "outputs": [],
   "source": [
    "def lin_reg(product, date_start, date_end):\n",
    "    \n",
    "    c.execute(f\"\"\"SELECT date, amount FROM sales WHERE product='{product}'\n",
    "                    AND date BETWEEN '{date_start}' AND '{date_end}' ORDER BY date\"\"\")\n",
    "    data = c.fetchall()\n",
    "    X, y = [], []\n",
    "    for i in range(len(data)):\n",
    "        X.append(i)\n",
    "        y.append(data[i][1])\n",
    "    X_df= pd.DataFrame(data=X, columns=['date'])\n",
    "    y_df = pd.DataFrame(data=y, columns=['amount'])\n",
    "    X_train = np.asanyarray(X_df[['date']])\n",
    "    y_train = np.asanyarray(y_df[['amount']])\n",
    "    LR = LinearRegression()\n",
    "    LR.fit(X_train, y_train)\n",
    "    \n",
    "    return float('%.4f' % LR.coef_[0][0]), float('%.4f' % LR.intercept_[0])"
   ]
  },
  {
   "cell_type": "code",
   "execution_count": 297,
   "metadata": {},
   "outputs": [
    {
     "data": {
      "text/plain": [
       "(-0.1756, 29.3702)"
      ]
     },
     "execution_count": 297,
     "metadata": {},
     "output_type": "execute_result"
    }
   ],
   "source": [
    "coef = lin_reg('Q', '2019-01-01', '2019-03-31')\n",
    "coef"
   ]
  },
  {
   "cell_type": "code",
   "execution_count": 303,
   "metadata": {},
   "outputs": [],
   "source": [
    "with open ('res3.txt', 'w') as w:\n",
    "    w.write(str(coef[0]) + ' ' + str(coef[1]))"
   ]
  },
  {
   "cell_type": "code",
   "execution_count": 451,
   "metadata": {},
   "outputs": [],
   "source": [
    "conn.close()"
   ]
  }
 ],
 "metadata": {
  "kernelspec": {
   "display_name": "Python 3",
   "language": "python",
   "name": "python3"
  },
  "language_info": {
   "codemirror_mode": {
    "name": "ipython",
    "version": 3
   },
   "file_extension": ".py",
   "mimetype": "text/x-python",
   "name": "python",
   "nbconvert_exporter": "python",
   "pygments_lexer": "ipython3",
   "version": "3.7.4"
  }
 },
 "nbformat": 4,
 "nbformat_minor": 2
}
